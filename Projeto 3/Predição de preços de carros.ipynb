{
 "cells": [
  {
   "cell_type": "markdown",
   "metadata": {},
   "source": [
    "___\n",
    "# Ciência dos Dados - Projeto 3"
   ]
  },
  {
   "cell_type": "markdown",
   "metadata": {},
   "source": [
    "___\n",
    "## Nome 1 - Augusto Franco de Paula\n",
    "\n",
    "## Nome 2 - Gabriel Heusi Pereira Bueno de Camargo\n",
    "\n",
    "## Nome 3 - Pedro Henrique Carvalho Daher\n",
    "\n",
    "___"
   ]
  },
  {
   "cell_type": "markdown",
   "metadata": {},
   "source": [
    "___\n",
    "\n",
    "## Introdução"
   ]
  },
  {
   "cell_type": "markdown",
   "metadata": {},
   "source": [
    "   A partir de um interesse sobre carros, o grupo optou por fazer um modelo de previsão dos preços de carros e ainda analisar aqueles considerados \"Overpriced\", ou seja acima do preço considerado padrão para determinado modelo. \n",
    "   A base de dados utilizada para o estudo é de 2017 e avalia apenas carros americanos, dessa forma deve-se explorar esta afim de possibilitar tal modelo de predição. Para isso será importante avaliar quais as variáveis de maior influência sobre o preço de um carro para que ao fim haja uma comparação entre o preço real do carro e seu preço esperado a partir das variáveis que o definem. Por fim a análise de carros acima do preço servirá como dado de eficiência do estudo \n",
    "   Dessa forma baseou-se em artigos cientificos e estudos que avaliam os modelos de distribuicão destes preços, entre eles estão: "
   ]
  },
  {
   "cell_type": "markdown",
   "metadata": {},
   "source": [
    "___\n",
    "## Minerando dados e características do Dataset"
   ]
  },
  {
   "cell_type": "code",
   "execution_count": 27,
   "metadata": {},
   "outputs": [],
   "source": [
    "import pandas as pd\n",
    "import matplotlib.pyplot as plt\n",
    "from sklearn.utils import shuffle\n",
    "import os\n",
    "import math\n",
    "from sklearn.linear_model import Ridge, Lasso\n",
    "from sys import stdin\n",
    "from numpy import arange\n",
    "import numpy as np\n",
    "import seaborn as sns\n",
    "from sklearn import preprocessing, cross_validation, neighbors"
   ]
  },
  {
   "cell_type": "code",
   "execution_count": 28,
   "metadata": {},
   "outputs": [
    {
     "name": "stdout",
     "output_type": "stream",
     "text": [
      "Esperamos trabalhar no diretório\n",
      "C:\\Users\\Pedro Daher\\Downloads\n"
     ]
    }
   ],
   "source": [
    "print('Esperamos trabalhar no diretório')\n",
    "print(os.getcwd())\n",
    "data = pd.read_csv('data.csv')"
   ]
  },
  {
   "cell_type": "markdown",
   "metadata": {},
   "source": [
    "## Base de dados"
   ]
  },
  {
   "cell_type": "code",
   "execution_count": 29,
   "metadata": {},
   "outputs": [
    {
     "data": {
      "text/html": [
       "<div>\n",
       "<style>\n",
       "    .dataframe thead tr:only-child th {\n",
       "        text-align: right;\n",
       "    }\n",
       "\n",
       "    .dataframe thead th {\n",
       "        text-align: left;\n",
       "    }\n",
       "\n",
       "    .dataframe tbody tr th {\n",
       "        vertical-align: top;\n",
       "    }\n",
       "</style>\n",
       "<table border=\"1\" class=\"dataframe\">\n",
       "  <thead>\n",
       "    <tr style=\"text-align: right;\">\n",
       "      <th></th>\n",
       "      <th>Make</th>\n",
       "      <th>Model</th>\n",
       "      <th>Year</th>\n",
       "      <th>Engine Fuel Type</th>\n",
       "      <th>Engine HP</th>\n",
       "      <th>Engine Cylinders</th>\n",
       "      <th>Transmission Type</th>\n",
       "      <th>Driven_Wheels</th>\n",
       "      <th>Number of Doors</th>\n",
       "      <th>Market Category</th>\n",
       "      <th>Vehicle Size</th>\n",
       "      <th>Vehicle Style</th>\n",
       "      <th>highway MPG</th>\n",
       "      <th>city mpg</th>\n",
       "      <th>Popularity</th>\n",
       "      <th>MSRP</th>\n",
       "    </tr>\n",
       "  </thead>\n",
       "  <tbody>\n",
       "    <tr>\n",
       "      <th>7783</th>\n",
       "      <td>Infiniti</td>\n",
       "      <td>Q50</td>\n",
       "      <td>2016</td>\n",
       "      <td>premium unleaded (required)</td>\n",
       "      <td>300.0</td>\n",
       "      <td>6.0</td>\n",
       "      <td>AUTOMATIC</td>\n",
       "      <td>all wheel drive</td>\n",
       "      <td>4.0</td>\n",
       "      <td>Luxury,Performance</td>\n",
       "      <td>Midsize</td>\n",
       "      <td>Sedan</td>\n",
       "      <td>27</td>\n",
       "      <td>19</td>\n",
       "      <td>190</td>\n",
       "      <td>41900</td>\n",
       "    </tr>\n",
       "    <tr>\n",
       "      <th>8883</th>\n",
       "      <td>Audi</td>\n",
       "      <td>S5</td>\n",
       "      <td>2017</td>\n",
       "      <td>premium unleaded (required)</td>\n",
       "      <td>333.0</td>\n",
       "      <td>6.0</td>\n",
       "      <td>AUTOMATED_MANUAL</td>\n",
       "      <td>all wheel drive</td>\n",
       "      <td>2.0</td>\n",
       "      <td>Factory Tuner,Luxury,Performance</td>\n",
       "      <td>Midsize</td>\n",
       "      <td>Coupe</td>\n",
       "      <td>28</td>\n",
       "      <td>18</td>\n",
       "      <td>3105</td>\n",
       "      <td>54100</td>\n",
       "    </tr>\n",
       "    <tr>\n",
       "      <th>5409</th>\n",
       "      <td>Volkswagen</td>\n",
       "      <td>Golf GTI</td>\n",
       "      <td>2017</td>\n",
       "      <td>premium unleaded (recommended)</td>\n",
       "      <td>210.0</td>\n",
       "      <td>4.0</td>\n",
       "      <td>AUTOMATED_MANUAL</td>\n",
       "      <td>front wheel drive</td>\n",
       "      <td>4.0</td>\n",
       "      <td>Hatchback,Performance</td>\n",
       "      <td>Compact</td>\n",
       "      <td>4dr Hatchback</td>\n",
       "      <td>32</td>\n",
       "      <td>24</td>\n",
       "      <td>873</td>\n",
       "      <td>26695</td>\n",
       "    </tr>\n",
       "    <tr>\n",
       "      <th>318</th>\n",
       "      <td>Nissan</td>\n",
       "      <td>370Z</td>\n",
       "      <td>2015</td>\n",
       "      <td>premium unleaded (required)</td>\n",
       "      <td>332.0</td>\n",
       "      <td>6.0</td>\n",
       "      <td>MANUAL</td>\n",
       "      <td>rear wheel drive</td>\n",
       "      <td>2.0</td>\n",
       "      <td>High-Performance</td>\n",
       "      <td>Compact</td>\n",
       "      <td>Convertible</td>\n",
       "      <td>24</td>\n",
       "      <td>17</td>\n",
       "      <td>2009</td>\n",
       "      <td>45270</td>\n",
       "    </tr>\n",
       "    <tr>\n",
       "      <th>5301</th>\n",
       "      <td>Mercedes-Benz</td>\n",
       "      <td>GLA-Class</td>\n",
       "      <td>2016</td>\n",
       "      <td>premium unleaded (required)</td>\n",
       "      <td>208.0</td>\n",
       "      <td>4.0</td>\n",
       "      <td>AUTOMATED_MANUAL</td>\n",
       "      <td>front wheel drive</td>\n",
       "      <td>4.0</td>\n",
       "      <td>Crossover,Luxury</td>\n",
       "      <td>Compact</td>\n",
       "      <td>4dr SUV</td>\n",
       "      <td>35</td>\n",
       "      <td>25</td>\n",
       "      <td>617</td>\n",
       "      <td>32500</td>\n",
       "    </tr>\n",
       "  </tbody>\n",
       "</table>\n",
       "</div>"
      ],
      "text/plain": [
       "               Make      Model  Year                Engine Fuel Type  \\\n",
       "7783       Infiniti        Q50  2016     premium unleaded (required)   \n",
       "8883           Audi         S5  2017     premium unleaded (required)   \n",
       "5409     Volkswagen   Golf GTI  2017  premium unleaded (recommended)   \n",
       "318          Nissan       370Z  2015     premium unleaded (required)   \n",
       "5301  Mercedes-Benz  GLA-Class  2016     premium unleaded (required)   \n",
       "\n",
       "      Engine HP  Engine Cylinders Transmission Type      Driven_Wheels  \\\n",
       "7783      300.0               6.0         AUTOMATIC    all wheel drive   \n",
       "8883      333.0               6.0  AUTOMATED_MANUAL    all wheel drive   \n",
       "5409      210.0               4.0  AUTOMATED_MANUAL  front wheel drive   \n",
       "318       332.0               6.0            MANUAL   rear wheel drive   \n",
       "5301      208.0               4.0  AUTOMATED_MANUAL  front wheel drive   \n",
       "\n",
       "      Number of Doors                   Market Category Vehicle Size  \\\n",
       "7783              4.0                Luxury,Performance      Midsize   \n",
       "8883              2.0  Factory Tuner,Luxury,Performance      Midsize   \n",
       "5409              4.0             Hatchback,Performance      Compact   \n",
       "318               2.0                  High-Performance      Compact   \n",
       "5301              4.0                  Crossover,Luxury      Compact   \n",
       "\n",
       "      Vehicle Style  highway MPG  city mpg  Popularity   MSRP  \n",
       "7783          Sedan           27        19         190  41900  \n",
       "8883          Coupe           28        18        3105  54100  \n",
       "5409  4dr Hatchback           32        24         873  26695  \n",
       "318     Convertible           24        17        2009  45270  \n",
       "5301        4dr SUV           35        25         617  32500  "
      ]
     },
     "execution_count": 29,
     "metadata": {},
     "output_type": "execute_result"
    }
   ],
   "source": [
    "data = shuffle(data)\n",
    "data.head()"
   ]
  },
  {
   "cell_type": "code",
   "execution_count": 30,
   "metadata": {
    "scrolled": true
   },
   "outputs": [
    {
     "data": {
      "image/png": "[encoded data removed]",
      "text/plain": [
       "<matplotlib.figure.Figure at 0x139fb3e6c88>"
      ]
     },
     "metadata": {},
     "output_type": "display_data"
    }
   ],
   "source": [
    "sns.heatmap(data.corr(), annot=True, fmt=\".1f\")\n",
    "plt.show()"
   ]
  },
  {
   "cell_type": "markdown",
   "metadata": {},
   "source": [
    "   A partir do mapa mostrado acima é possível identificar a influência (correlação) de uma variável sobre o preço de um carro. Dessa forma basta analisar e perceber que as três que apresentam maior proporcionalidade são: Ano de fabricação (Year), Potência do Motor (Engine HP) e número de cilindros (Engine Cylinders). Vale lembrar que isto era esperado, afinal essa ferramenta só é capaz de comparar dados quantitativos."
   ]
  },
  {
   "cell_type": "markdown",
   "metadata": {},
   "source": [
    "## Análise Descritiva"
   ]
  },
  {
   "cell_type": "markdown",
   "metadata": {},
   "source": [
    "   A partir desta seção será reavaliada a ideia das variáveis e sua distribuição de acordo com o preço. Como por exemplo a \"Engine Cylinders\" será categorizado como uma espécie de força fornecida pelos cilindros ao carro e ainda observar onde a predominância do preço dos carros, separando em faixas de valor de compra/venda. "
   ]
  },
  {
   "cell_type": "code",
   "execution_count": 31,
   "metadata": {},
   "outputs": [
    {
     "data": {
      "text/html": [
       "<div>\n",
       "<style>\n",
       "    .dataframe thead tr:only-child th {\n",
       "        text-align: right;\n",
       "    }\n",
       "\n",
       "    .dataframe thead th {\n",
       "        text-align: left;\n",
       "    }\n",
       "\n",
       "    .dataframe tbody tr th {\n",
       "        vertical-align: top;\n",
       "    }\n",
       "</style>\n",
       "<table border=\"1\" class=\"dataframe\">\n",
       "  <thead>\n",
       "    <tr style=\"text-align: right;\">\n",
       "      <th></th>\n",
       "      <th>Ano</th>\n",
       "      <th>Potência</th>\n",
       "      <th>Cilindros</th>\n",
       "      <th>Price</th>\n",
       "    </tr>\n",
       "  </thead>\n",
       "  <tbody>\n",
       "    <tr>\n",
       "      <th>7783</th>\n",
       "      <td>2016</td>\n",
       "      <td>300.0</td>\n",
       "      <td>6.0</td>\n",
       "      <td>41900</td>\n",
       "    </tr>\n",
       "    <tr>\n",
       "      <th>8883</th>\n",
       "      <td>2017</td>\n",
       "      <td>333.0</td>\n",
       "      <td>6.0</td>\n",
       "      <td>54100</td>\n",
       "    </tr>\n",
       "    <tr>\n",
       "      <th>5409</th>\n",
       "      <td>2017</td>\n",
       "      <td>210.0</td>\n",
       "      <td>4.0</td>\n",
       "      <td>26695</td>\n",
       "    </tr>\n",
       "    <tr>\n",
       "      <th>318</th>\n",
       "      <td>2015</td>\n",
       "      <td>332.0</td>\n",
       "      <td>6.0</td>\n",
       "      <td>45270</td>\n",
       "    </tr>\n",
       "    <tr>\n",
       "      <th>5301</th>\n",
       "      <td>2016</td>\n",
       "      <td>208.0</td>\n",
       "      <td>4.0</td>\n",
       "      <td>32500</td>\n",
       "    </tr>\n",
       "  </tbody>\n",
       "</table>\n",
       "</div>"
      ],
      "text/plain": [
       "       Ano  Potência  Cilindros  Price\n",
       "7783  2016     300.0        6.0  41900\n",
       "8883  2017     333.0        6.0  54100\n",
       "5409  2017     210.0        4.0  26695\n",
       "318   2015     332.0        6.0  45270\n",
       "5301  2016     208.0        4.0  32500"
      ]
     },
     "execution_count": 31,
     "metadata": {},
     "output_type": "execute_result"
    }
   ],
   "source": [
    "data = data.loc[data['Engine Cylinders']>0,['Year','Engine HP','Engine Cylinders','MSRP']]\n",
    "data = data.loc[data['MSRP']<125000,['Year','Engine HP','Engine Cylinders','MSRP']]\n",
    "data = data.loc[data['Engine HP']>0,['Year','Engine HP','Engine Cylinders','MSRP']]\n",
    "data.columns=[\"Ano\",\"Potência\",\"Cilindros\",\"Price\"]\n",
    "data.dropna()\n",
    "data.head()"
   ]
  },
  {
   "cell_type": "code",
   "execution_count": 32,
   "metadata": {},
   "outputs": [
    {
     "data": {
      "text/plain": [
       "(5000, 8000]       0.291545\n",
       "(8000, 11000]      0.205161\n",
       "(11000, 14000]     0.831444\n",
       "(14000, 17000]     4.459562\n",
       "(17000, 20000]     6.046863\n",
       "(20000, 23000]     9.405032\n",
       "(23000, 26000]    11.186697\n",
       "(26000, 29000]    10.538819\n",
       "(29000, 32000]    10.679192\n",
       "(32000, 35000]     8.638376\n",
       "(35000, 38000]     7.482993\n",
       "(38000, 41000]     6.165641\n",
       "(41000, 44000]     5.344995\n",
       "(44000, 47000]     4.070835\n",
       "(47000, 50000]     3.358169\n",
       "(50000, 53000]     2.569917\n",
       "(53000, 56000]     1.997624\n",
       "(56000, 59000]     1.241767\n",
       "(59000, 62000]     1.382140\n",
       "(62000, 65000]     1.446928\n",
       "(65000, 68000]     0.950221\n",
       "(68000, 71000]     0.701868\n",
       "(71000, 74000]     0.442717\n",
       "(74000, 77000]     0.561494\n",
       "Name: Price, dtype: float64"
      ]
     },
     "execution_count": 32,
     "metadata": {},
     "output_type": "execute_result"
    }
   ],
   "source": [
    "faixa = range(5000,80000,3000)\n",
    "price = pd.cut(data.Price, bins=faixa)\n",
    "price.value_counts(sort=False, normalize=True)*100"
   ]
  },
  {
   "cell_type": "code",
   "execution_count": 33,
   "metadata": {},
   "outputs": [
    {
     "data": {
      "image/png": "[encoded data removed]",
      "text/plain": [
       "<matplotlib.figure.Figure at 0x139fb1aaf28>"
      ]
     },
     "metadata": {},
     "output_type": "display_data"
    }
   ],
   "source": [
    "plot = data.Price.plot.hist(bins=faixa,title='Histograma de Distribuição do Preço dos Carros (H1)', figsize=(6, 6), alpha=0.9)\n",
    "plt.show()"
   ]
  },
  {
   "cell_type": "markdown",
   "metadata": {},
   "source": [
    "   Histograma que possibilita a visualização da distribuição dos preços dos carros de acordo com faixas de preço."
   ]
  },
  {
   "cell_type": "markdown",
   "metadata": {},
   "source": [
    "## Modelos de predição"
   ]
  },
  {
   "cell_type": "markdown",
   "metadata": {},
   "source": [
    "   Sepração da base de dados em treino e teste, considerando que 30% do dataframe ('data') será selecionado aleatoriamente para teste e os outros 70% para treinamento"
   ]
  },
  {
   "cell_type": "code",
   "execution_count": 35,
   "metadata": {},
   "outputs": [
    {
     "data": {
      "text/html": [
       "<div>\n",
       "<style>\n",
       "    .dataframe thead tr:only-child th {\n",
       "        text-align: right;\n",
       "    }\n",
       "\n",
       "    .dataframe thead th {\n",
       "        text-align: left;\n",
       "    }\n",
       "\n",
       "    .dataframe tbody tr th {\n",
       "        vertical-align: top;\n",
       "    }\n",
       "</style>\n",
       "<table border=\"1\" class=\"dataframe\">\n",
       "  <thead>\n",
       "    <tr style=\"text-align: right;\">\n",
       "      <th></th>\n",
       "      <th>Ano</th>\n",
       "      <th>Potência</th>\n",
       "      <th>Cilindros</th>\n",
       "      <th>Price</th>\n",
       "    </tr>\n",
       "  </thead>\n",
       "  <tbody>\n",
       "    <tr>\n",
       "      <th>count</th>\n",
       "      <td>7914.000000</td>\n",
       "      <td>7914.000000</td>\n",
       "      <td>7914.000000</td>\n",
       "      <td>7914.000000</td>\n",
       "    </tr>\n",
       "    <tr>\n",
       "      <th>mean</th>\n",
       "      <td>2010.334091</td>\n",
       "      <td>237.190422</td>\n",
       "      <td>5.468158</td>\n",
       "      <td>31495.867956</td>\n",
       "    </tr>\n",
       "    <tr>\n",
       "      <th>std</th>\n",
       "      <td>7.648398</td>\n",
       "      <td>91.920480</td>\n",
       "      <td>1.470828</td>\n",
       "      <td>20633.836453</td>\n",
       "    </tr>\n",
       "    <tr>\n",
       "      <th>min</th>\n",
       "      <td>1990.000000</td>\n",
       "      <td>55.000000</td>\n",
       "      <td>3.000000</td>\n",
       "      <td>2000.000000</td>\n",
       "    </tr>\n",
       "    <tr>\n",
       "      <th>25%</th>\n",
       "      <td>2007.000000</td>\n",
       "      <td>170.000000</td>\n",
       "      <td>4.000000</td>\n",
       "      <td>20491.250000</td>\n",
       "    </tr>\n",
       "    <tr>\n",
       "      <th>50%</th>\n",
       "      <td>2015.000000</td>\n",
       "      <td>220.000000</td>\n",
       "      <td>6.000000</td>\n",
       "      <td>29265.000000</td>\n",
       "    </tr>\n",
       "    <tr>\n",
       "      <th>75%</th>\n",
       "      <td>2016.000000</td>\n",
       "      <td>292.000000</td>\n",
       "      <td>6.000000</td>\n",
       "      <td>40166.250000</td>\n",
       "    </tr>\n",
       "    <tr>\n",
       "      <th>max</th>\n",
       "      <td>2017.000000</td>\n",
       "      <td>707.000000</td>\n",
       "      <td>12.000000</td>\n",
       "      <td>124100.000000</td>\n",
       "    </tr>\n",
       "  </tbody>\n",
       "</table>\n",
       "</div>"
      ],
      "text/plain": [
       "               Ano     Potência    Cilindros          Price\n",
       "count  7914.000000  7914.000000  7914.000000    7914.000000\n",
       "mean   2010.334091   237.190422     5.468158   31495.867956\n",
       "std       7.648398    91.920480     1.470828   20633.836453\n",
       "min    1990.000000    55.000000     3.000000    2000.000000\n",
       "25%    2007.000000   170.000000     4.000000   20491.250000\n",
       "50%    2015.000000   220.000000     6.000000   29265.000000\n",
       "75%    2016.000000   292.000000     6.000000   40166.250000\n",
       "max    2017.000000   707.000000    12.000000  124100.000000"
      ]
     },
     "execution_count": 35,
     "metadata": {},
     "output_type": "execute_result"
    }
   ],
   "source": [
    "from sklearn.model_selection import train_test_split as split\n",
    "train, test = split(data, test_size=0.3)\n",
    "train.describe()"
   ]
  },
  {
   "cell_type": "markdown",
   "metadata": {},
   "source": [
    "## Modelo de predição pela média"
   ]
  },
  {
   "cell_type": "markdown",
   "metadata": {},
   "source": [
    "O primeiro modelo de predição realizado foi pela média, que consiste basicamente na análise da média da variável que esperamos prever, no caso o preço dos carros. Para isso basta analisar a média de preços e essa será o valor esperado para o carro."
   ]
  },
  {
   "cell_type": "code",
   "execution_count": 36,
   "metadata": {},
   "outputs": [
    {
     "name": "stdout",
     "output_type": "stream",
     "text": [
      "O preço esperado de um carro a partir da predição pela média é: 31495.86795552186\n"
     ]
    }
   ],
   "source": [
    "print('O preço esperado de um carro a partir da predição pela média é:',train.Price.mean())"
   ]
  },
  {
   "cell_type": "markdown",
   "metadata": {},
   "source": [
    "### Coeficiente de determinação (R2) e Raiz do erro médio quadrático (RMS)"
   ]
  },
  {
   "cell_type": "code",
   "execution_count": 37,
   "metadata": {},
   "outputs": [
    {
     "name": "stdout",
     "output_type": "stream",
     "text": [
      "[0.0]\n",
      "[20632.532783049122]\n"
     ]
    }
   ],
   "source": [
    "n = len(train)\n",
    "fi = train.Price.mean()\n",
    "ybarra = train.Price.mean()\n",
    "yi=train.Price\n",
    "\n",
    "def R2 (ybarra, fi, yi):\n",
    "    a = ((yi-fi)**2).sum()\n",
    "    b = ((yi-ybarra)**2).sum()\n",
    "    r2=1-(a/b)\n",
    "    return[r2]\n",
    "\n",
    "def RSM (ybarra, fi, yi):\n",
    "    c = ((yi-ybarra)**2).sum()\n",
    "    raiz = ((1/n)*c)**0.5\n",
    "    return[raiz]\n",
    "    \n",
    "print (R2(ybarra, fi, yi))\n",
    "print (RSM(ybarra, fi, yi))"
   ]
  },
  {
   "cell_type": "markdown",
   "metadata": {},
   "source": [
    "## Modelos dos K vizinhos mais próximos (K-Nearest Neighbors Regression)"
   ]
  },
  {
   "cell_type": "markdown",
   "metadata": {},
   "source": [
    "A seguir deve ser feito um segundo modelo de predição, no caso o chamado K-Nearest Neighbors Regression, que consiste basicamente em prever o valor do carro baseado em seus vizinhos mais próximos e seus atributos (exceto preço, já que este é usado para o cálculo da média). Isto é, este modelo se fundamenta em descobrir o valor do preço através de uma média dos preços de seus k vizinhos mais próximos. Para determinar quais são os vizinhos mais próximos, um cáclulo é feito e os vizinhos são selecionados."
   ]
  },
  {
   "cell_type": "code",
   "execution_count": 38,
   "metadata": {},
   "outputs": [
    {
     "name": "stdout",
     "output_type": "stream",
     "text": [
      "0.0935786308155\n"
     ]
    }
   ],
   "source": [
    "x = np.array(data.drop(['Price'],1))\n",
    "y = np.array(data['Price'])\n",
    "\n",
    "x_train, x_test,y_train, y_test=cross_validation.train_test_split(x,y,test_size=0.5)\n",
    "clf=neighbors.KNeighborsClassifier()\n",
    "clf.fit(x_train, y_train)\n",
    "accuracy=clf.score(x_test, y_test)\n",
    "print (accuracy)"
   ]
  },
  {
   "cell_type": "markdown",
   "metadata": {},
   "source": [
    "Na célula acima foi determinado o alvo à predição: \"Price\". A base train (25%) e test(75%) foi separada. Além disso uma nova ferramenta foi disposta para verificar a veracidade dos dados: \"accuracy\". Apesar do \"accuracy estar próximo a 10%, o valor (\"Price\") deste modelo de regressão não ficou muito distante do valor (\"Price\") real."
   ]
  },
  {
   "cell_type": "code",
   "execution_count": 39,
   "metadata": {},
   "outputs": [
    {
     "name": "stdout",
     "output_type": "stream",
     "text": [
      "Digite o ano (2006 até 2017): 2016\n",
      "Digite a potencia (150 até 707): 700\n",
      "Digite a quantidade de cilindros (3 até 12): 6\n",
      "[55110]\n"
     ]
    }
   ],
   "source": [
    "ano = input('Digite o ano (2006 até 2017): ')\n",
    "potencia = input(\"Digite a potencia (150 até 707): \")\n",
    "cilindros = input(\"Digite a quantidade de cilindros (3 até 12): \")\n",
    "\n",
    "ee=np.array([ano,potencia,cilindros])\n",
    "ee=ee.reshape(1,-1)\n",
    "prediction = clf.predict(ee)\n",
    "print(prediction)"
   ]
  },
  {
   "cell_type": "markdown",
   "metadata": {},
   "source": [
    "Há aqui uma interação entre o usuário e o programa. Sendo que, através da célula acima e do modelo de ressão dos K-vizinhos mais próximos, o usuário é capaz de prever o preço de um carro digitando seu ano, sua potência e sua quantidade de cilindros."
   ]
  },
  {
   "cell_type": "markdown",
   "metadata": {},
   "source": [
    "### Coeficiente de determinação (R2) e Raiz do erro médio quadrático (RMS)"
   ]
  },
  {
   "cell_type": "code",
   "execution_count": 41,
   "metadata": {},
   "outputs": [
    {
     "name": "stdout",
     "output_type": "stream",
     "text": [
      "[-1.30990224689846]\n",
      "[20632.532783049122]\n"
     ]
    }
   ],
   "source": [
    "n = len(train)\n",
    "fi = prediction\n",
    "ybarra = train.Price.mean()\n",
    "yi=train.Price\n",
    "\n",
    "def R2 (ybarra, fi, yi):\n",
    "    a = ((yi-fi)**2).sum()\n",
    "    b = ((yi-ybarra)**2).sum()\n",
    "    r2=1-(a/b)\n",
    "    return[r2]\n",
    "\n",
    "def RSM (ybarra, fi, yi):\n",
    "    c = ((yi-ybarra)**2).sum()\n",
    "    raiz = ((1/n)*c)**0.5\n",
    "    return[raiz]\n",
    "    \n",
    "print (R2(ybarra, fi, yi))\n",
    "print (RSM(ybarra, fi, yi))"
   ]
  },
  {
   "cell_type": "markdown",
   "metadata": {},
   "source": [
    "## Modelo de regressão linear (Multiple Linear Regression)"
   ]
  },
  {
   "cell_type": "markdown",
   "metadata": {},
   "source": [
    "O próximo modelo preditivo a ser realizado para análise dos preços de carro é pelo método de regressão linear, este se baseia em uma função matemática linear (uma reta) para estimar o valor esperado de uma variável y, dado os valores de alguma outra ou outras variáveis (x)."
   ]
  },
  {
   "cell_type": "code",
   "execution_count": 42,
   "metadata": {
    "collapsed": true
   },
   "outputs": [],
   "source": [
    "atributos = [ \"Potência\",\"Cilindros\", \"Ano\"]\n",
    "objetivo = ['Price']"
   ]
  },
  {
   "cell_type": "code",
   "execution_count": 43,
   "metadata": {
    "collapsed": true
   },
   "outputs": [],
   "source": [
    "def ridge_regression(train, atributos, alpha):\n",
    "    ridgereg = Ridge(alpha=alpha,normalize=True)\n",
    "    ridgereg.fit(train[atributos],train['Price'])\n",
    "    y_pred = ridgereg.predict(train[atributos])\n",
    "    return(y_pred)"
   ]
  },
  {
   "cell_type": "code",
   "execution_count": 44,
   "metadata": {},
   "outputs": [
    {
     "data": {
      "image/png": "[encoded data removed]",
      "text/plain": [
       "<matplotlib.figure.Figure at 0x139fc604d68>"
      ]
     },
     "metadata": {},
     "output_type": "display_data"
    }
   ],
   "source": [
    "ridge = ridge_regression(train, atributos,1e-5)\n",
    "plt.plot(train['Price'],ridge,'.', color=\"red\")\n",
    "plt.axis([0, 140000, 0, 140000])\n",
    "plt.xlabel(\"Price verdadeiro\")\n",
    "plt.ylabel(\"Price previsto pelo programa\")\n",
    "plt.show()"
   ]
  },
  {
   "cell_type": "markdown",
   "metadata": {},
   "source": [
    "### Coeficiente de determinação (R2) e Raiz do erro médio quadrático (RMS)"
   ]
  },
  {
   "cell_type": "code",
   "execution_count": 45,
   "metadata": {},
   "outputs": [
    {
     "name": "stdout",
     "output_type": "stream",
     "text": [
      "[0.7238224035108857]\n",
      "[20632.532783049122]\n"
     ]
    }
   ],
   "source": [
    "n = len(train)\n",
    "fi = ridge\n",
    "ybarra = train.Price.mean()\n",
    "yi=train.Price\n",
    "\n",
    "def R2 (ybarra, fi, yi):\n",
    "    a = ((yi-fi)**2).sum()\n",
    "    b = ((yi-ybarra)**2).sum()\n",
    "    r2=1-(a/b)\n",
    "    return[r2]\n",
    "\n",
    "def RSM (ybarra, fi, yi):\n",
    "    c = ((yi-ybarra)**2).sum()\n",
    "    raiz = ((1/n)*c)**0.5\n",
    "    return[raiz]\n",
    "    \n",
    "print (R2(ybarra, fi, yi))\n",
    "print (RSM(ybarra, fi, yi))"
   ]
  },
  {
   "cell_type": "code",
   "execution_count": null,
   "metadata": {
    "collapsed": true
   },
   "outputs": [],
   "source": [
    "#Regressão Linear por Gabriel Camargo"
   ]
  }
 ],
 "metadata": {
  "anaconda-cloud": {},
  "kernelspec": {
   "display_name": "Python 3",
   "language": "python",
   "name": "python3"
  },
  "language_info": {
   "codemirror_mode": {
    "name": "ipython",
    "version": 3
   },
   "file_extension": ".py",
   "mimetype": "text/x-python",
   "name": "python",
   "nbconvert_exporter": "python",
   "pygments_lexer": "ipython3",
   "version": "3.6.1"
  }
 },
 "nbformat": 4,
 "nbformat_minor": 1
}
