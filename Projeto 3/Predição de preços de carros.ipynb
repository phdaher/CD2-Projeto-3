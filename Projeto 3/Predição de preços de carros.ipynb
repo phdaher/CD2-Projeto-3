{
 "cells": [
  {
   "cell_type": "markdown",
   "metadata": {},
   "source": [
    "___\n",
    "# Ciência dos Dados - Projeto 3"
   ]
  },
  {
   "cell_type": "markdown",
   "metadata": {},
   "source": [
    "___\n",
    "## Nome 1 - Augusto Franco de Paula\n",
    "\n",
    "## Nome 2 - Gabriel Heusi Pereira Bueno de Camargo\n",
    "\n",
    "## Nome 3 - Pedro Henrique Carvalho Daher\n",
    "\n",
    "___"
   ]
  },
  {
   "cell_type": "markdown",
   "metadata": {},
   "source": [
    "___\n",
    "\n",
    "## Introdução"
   ]
  },
  {
   "cell_type": "markdown",
   "metadata": {},
   "source": [
    "   A partir de um interesse sobre carros, o grupo optou por fazer um modelo de previsão dos preços de carros e ainda analisar aqueles considerados \"Overpriced\", ou seja acima do preço considerado padrão para determinado modelo. \n",
    "   A base de dados utilizada para o estudo é de 2017 e avalia apenas carros americanos, dessa forma deve-se explorar esta afim de possibilitar tal modelo de predição. Para isso será importante avaliar quais as variáveis de maior influência sobre o preço de um carro para que ao fim haja uma comparação entre o preço real do carro e seu preço esperado a partir das variáveis que o definem. Por fim a análise de carros acima do preço servirá como dado de eficiência do estudo \n",
    "   Dessa forma baseou-se em artigos cientificos e estudos que avaliam os modelos de distribuicão destes preços, entre eles estão: "
   ]
  },
  {
   "cell_type": "markdown",
   "metadata": {},
   "source": [
    "___\n",
    "## Minerando dados e características do Dataset"
   ]
  },
  {
   "cell_type": "code",
   "execution_count": 8,
   "metadata": {},
   "outputs": [],
   "source": [
    "import pandas as pd\n",
    "import matplotlib.pyplot as plt\n",
    "from sklearn.utils import shuffle\n",
    "import os\n",
    "import math\n",
    "from sklearn.linear_model import Ridge, Lasso\n",
    "from sys import stdin\n",
    "from numpy import arange\n",
    "import numpy as np\n",
    "import seaborn as sns\n",
    "from sklearn import preprocessing, cross_validation, neighbors"
   ]
  },
  {
   "cell_type": "code",
   "execution_count": 9,
   "metadata": {},
   "outputs": [
    {
     "name": "stdout",
     "output_type": "stream",
     "text": [
      "Esperamos trabalhar no diretório\n",
      "C:\\Users\\Pedro Daher\\Downloads\n"
     ]
    }
   ],
   "source": [
    "print('Esperamos trabalhar no diretório')\n",
    "print(os.getcwd())\n",
    "data = pd.read_csv('data.csv')"
   ]
  },
  {
   "cell_type": "markdown",
   "metadata": {},
   "source": [
    "## Base de dados"
   ]
  },
  {
   "cell_type": "code",
   "execution_count": 168,
   "metadata": {},
   "outputs": [
    {
     "data": {
      "text/html": [
       "<div>\n",
       "<table border=\"1\" class=\"dataframe\">\n",
       "  <thead>\n",
       "    <tr style=\"text-align: right;\">\n",
       "      <th></th>\n",
       "      <th>Make</th>\n",
       "      <th>Model</th>\n",
       "      <th>Year</th>\n",
       "      <th>Engine Fuel Type</th>\n",
       "      <th>Engine HP</th>\n",
       "      <th>Engine Cylinders</th>\n",
       "      <th>Transmission Type</th>\n",
       "      <th>Driven_Wheels</th>\n",
       "      <th>Number of Doors</th>\n",
       "      <th>Market Category</th>\n",
       "      <th>Vehicle Size</th>\n",
       "      <th>Vehicle Style</th>\n",
       "      <th>highway MPG</th>\n",
       "      <th>city mpg</th>\n",
       "      <th>Popularity</th>\n",
       "      <th>MSRP</th>\n",
       "    </tr>\n",
       "  </thead>\n",
       "  <tbody>\n",
       "    <tr>\n",
       "      <th>4125</th>\n",
       "      <td>Cadillac</td>\n",
       "      <td>Escalade ESV</td>\n",
       "      <td>2017</td>\n",
       "      <td>premium unleaded (recommended)</td>\n",
       "      <td>420.0</td>\n",
       "      <td>8.0</td>\n",
       "      <td>AUTOMATIC</td>\n",
       "      <td>four wheel drive</td>\n",
       "      <td>4.0</td>\n",
       "      <td>Luxury,Performance</td>\n",
       "      <td>Large</td>\n",
       "      <td>4dr SUV</td>\n",
       "      <td>20</td>\n",
       "      <td>15</td>\n",
       "      <td>1624</td>\n",
       "      <td>78995</td>\n",
       "    </tr>\n",
       "    <tr>\n",
       "      <th>9281</th>\n",
       "      <td>GMC</td>\n",
       "      <td>Sierra 1500 Classic</td>\n",
       "      <td>2007</td>\n",
       "      <td>regular unleaded</td>\n",
       "      <td>285.0</td>\n",
       "      <td>8.0</td>\n",
       "      <td>AUTOMATIC</td>\n",
       "      <td>rear wheel drive</td>\n",
       "      <td>2.0</td>\n",
       "      <td>Flex Fuel</td>\n",
       "      <td>Large</td>\n",
       "      <td>Regular Cab Pickup</td>\n",
       "      <td>19</td>\n",
       "      <td>15</td>\n",
       "      <td>549</td>\n",
       "      <td>24140</td>\n",
       "    </tr>\n",
       "    <tr>\n",
       "      <th>8366</th>\n",
       "      <td>Aston Martin</td>\n",
       "      <td>Rapide S</td>\n",
       "      <td>2014</td>\n",
       "      <td>premium unleaded (required)</td>\n",
       "      <td>550.0</td>\n",
       "      <td>12.0</td>\n",
       "      <td>AUTOMATIC</td>\n",
       "      <td>rear wheel drive</td>\n",
       "      <td>4.0</td>\n",
       "      <td>Exotic,High-Performance</td>\n",
       "      <td>Large</td>\n",
       "      <td>Sedan</td>\n",
       "      <td>19</td>\n",
       "      <td>13</td>\n",
       "      <td>259</td>\n",
       "      <td>198250</td>\n",
       "    </tr>\n",
       "    <tr>\n",
       "      <th>3447</th>\n",
       "      <td>Dodge</td>\n",
       "      <td>Dakota</td>\n",
       "      <td>2008</td>\n",
       "      <td>regular unleaded</td>\n",
       "      <td>302.0</td>\n",
       "      <td>8.0</td>\n",
       "      <td>AUTOMATIC</td>\n",
       "      <td>rear wheel drive</td>\n",
       "      <td>4.0</td>\n",
       "      <td>NaN</td>\n",
       "      <td>Compact</td>\n",
       "      <td>Crew Cab Pickup</td>\n",
       "      <td>19</td>\n",
       "      <td>14</td>\n",
       "      <td>1851</td>\n",
       "      <td>28520</td>\n",
       "    </tr>\n",
       "    <tr>\n",
       "      <th>11461</th>\n",
       "      <td>Subaru</td>\n",
       "      <td>WRX</td>\n",
       "      <td>2016</td>\n",
       "      <td>premium unleaded (recommended)</td>\n",
       "      <td>268.0</td>\n",
       "      <td>4.0</td>\n",
       "      <td>MANUAL</td>\n",
       "      <td>all wheel drive</td>\n",
       "      <td>4.0</td>\n",
       "      <td>Performance</td>\n",
       "      <td>Compact</td>\n",
       "      <td>Sedan</td>\n",
       "      <td>27</td>\n",
       "      <td>20</td>\n",
       "      <td>640</td>\n",
       "      <td>28895</td>\n",
       "    </tr>\n",
       "  </tbody>\n",
       "</table>\n",
       "</div>"
      ],
      "text/plain": [
       "               Make                Model  Year  \\\n",
       "4125       Cadillac         Escalade ESV  2017   \n",
       "9281            GMC  Sierra 1500 Classic  2007   \n",
       "8366   Aston Martin             Rapide S  2014   \n",
       "3447          Dodge               Dakota  2008   \n",
       "11461        Subaru                  WRX  2016   \n",
       "\n",
       "                     Engine Fuel Type  Engine HP  Engine Cylinders  \\\n",
       "4125   premium unleaded (recommended)      420.0               8.0   \n",
       "9281                 regular unleaded      285.0               8.0   \n",
       "8366      premium unleaded (required)      550.0              12.0   \n",
       "3447                 regular unleaded      302.0               8.0   \n",
       "11461  premium unleaded (recommended)      268.0               4.0   \n",
       "\n",
       "      Transmission Type     Driven_Wheels  Number of Doors  \\\n",
       "4125          AUTOMATIC  four wheel drive              4.0   \n",
       "9281          AUTOMATIC  rear wheel drive              2.0   \n",
       "8366          AUTOMATIC  rear wheel drive              4.0   \n",
       "3447          AUTOMATIC  rear wheel drive              4.0   \n",
       "11461            MANUAL   all wheel drive              4.0   \n",
       "\n",
       "               Market Category Vehicle Size       Vehicle Style  highway MPG  \\\n",
       "4125        Luxury,Performance        Large             4dr SUV           20   \n",
       "9281                 Flex Fuel        Large  Regular Cab Pickup           19   \n",
       "8366   Exotic,High-Performance        Large               Sedan           19   \n",
       "3447                       NaN      Compact     Crew Cab Pickup           19   \n",
       "11461              Performance      Compact               Sedan           27   \n",
       "\n",
       "       city mpg  Popularity    MSRP  \n",
       "4125         15        1624   78995  \n",
       "9281         15         549   24140  \n",
       "8366         13         259  198250  \n",
       "3447         14        1851   28520  \n",
       "11461        20         640   28895  "
      ]
     },
     "execution_count": 168,
     "metadata": {},
     "output_type": "execute_result"
    }
   ],
   "source": [
    "data = shuffle(data)\n",
    "data.head()"
   ]
  },
  {
   "cell_type": "code",
   "execution_count": 169,
   "metadata": {
    "scrolled": true
   },
   "outputs": [
    {
     "data": {
      "text/plain": [
       "<matplotlib.axes._subplots.AxesSubplot at 0x1e34161b4e0>"
      ]
     },
     "execution_count": 169,
     "metadata": {},
     "output_type": "execute_result"
    }
   ],
   "source": [
    "sns.heatmap(data.corr(), annot=True, fmt=\".1f\")"
   ]
  },
  {
   "cell_type": "code",
   "execution_count": 172,
   "metadata": {},
   "outputs": [
    {
     "data": {
      "image/png": "[encoded data removed]",
      "text/plain": [
       "<matplotlib.figure.Figure at 0x1e341610be0>"
      ]
     },
     "metadata": {},
     "output_type": "display_data"
    }
   ],
   "source": []
  },
  {
   "cell_type": "markdown",
   "metadata": {},
   "source": [
    "   A partir do mapa mostrado acima é possível identificar a influência (correlação) de uma variável sobre o preço de um carro. Dessa forma basta analisar e perceber que as três que apresentam maior proporcionalidade são: Ano de fabricação (Year), Potência do Motor (Engine HP) e número de cilindros (Engine Cylinders). Vale lembrar que isto era esperado, afinal essa ferramenta só é capaz de comparar dados quantitativos."
   ]
  },
  {
   "cell_type": "markdown",
   "metadata": {},
   "source": [
    "## Análise Descritiva"
   ]
  },
  {
   "cell_type": "markdown",
   "metadata": {},
   "source": [
    "   A partir desta seção será reavaliada a ideia das variáveis e sua distribuição de acordo com o preço. Como por exemplo a \"Engine Cylinders\" será categorizado como uma espécie de força fornecida pelos cilindros ao carro e ainda observar onde a predominância do preço dos carros, separando em faixas de valor de compra/venda. "
   ]
  },
  {
   "cell_type": "code",
   "execution_count": 10,
   "metadata": {},
   "outputs": [
    {
     "data": {
      "text/html": [
       "<div>\n",
       "<style>\n",
       "    .dataframe thead tr:only-child th {\n",
       "        text-align: right;\n",
       "    }\n",
       "\n",
       "    .dataframe thead th {\n",
       "        text-align: left;\n",
       "    }\n",
       "\n",
       "    .dataframe tbody tr th {\n",
       "        vertical-align: top;\n",
       "    }\n",
       "</style>\n",
       "<table border=\"1\" class=\"dataframe\">\n",
       "  <thead>\n",
       "    <tr style=\"text-align: right;\">\n",
       "      <th></th>\n",
       "      <th>Ano</th>\n",
       "      <th>Potência</th>\n",
       "      <th>Cilindros</th>\n",
       "      <th>Price</th>\n",
       "    </tr>\n",
       "  </thead>\n",
       "  <tbody>\n",
       "    <tr>\n",
       "      <th>0</th>\n",
       "      <td>2011</td>\n",
       "      <td>335.0</td>\n",
       "      <td>6.0</td>\n",
       "      <td>46135</td>\n",
       "    </tr>\n",
       "    <tr>\n",
       "      <th>1</th>\n",
       "      <td>2011</td>\n",
       "      <td>300.0</td>\n",
       "      <td>6.0</td>\n",
       "      <td>40650</td>\n",
       "    </tr>\n",
       "    <tr>\n",
       "      <th>2</th>\n",
       "      <td>2011</td>\n",
       "      <td>300.0</td>\n",
       "      <td>6.0</td>\n",
       "      <td>36350</td>\n",
       "    </tr>\n",
       "    <tr>\n",
       "      <th>3</th>\n",
       "      <td>2011</td>\n",
       "      <td>230.0</td>\n",
       "      <td>6.0</td>\n",
       "      <td>29450</td>\n",
       "    </tr>\n",
       "    <tr>\n",
       "      <th>4</th>\n",
       "      <td>2011</td>\n",
       "      <td>230.0</td>\n",
       "      <td>6.0</td>\n",
       "      <td>34500</td>\n",
       "    </tr>\n",
       "  </tbody>\n",
       "</table>\n",
       "</div>"
      ],
      "text/plain": [
       "    Ano  Potência  Cilindros  Price\n",
       "0  2011     335.0        6.0  46135\n",
       "1  2011     300.0        6.0  40650\n",
       "2  2011     300.0        6.0  36350\n",
       "3  2011     230.0        6.0  29450\n",
       "4  2011     230.0        6.0  34500"
      ]
     },
     "execution_count": 10,
     "metadata": {},
     "output_type": "execute_result"
    }
   ],
   "source": [
    "data = data.loc[data['Engine Cylinders']>0,['Year','Engine HP','Engine Cylinders','MSRP']]\n",
    "data = data.loc[data['MSRP']<125000,['Year','Engine HP','Engine Cylinders','MSRP']]\n",
    "data = data.loc[data['Engine HP']>0,['Year','Engine HP','Engine Cylinders','MSRP']]\n",
    "data.columns=[\"Ano\",\"Potência\",\"Cilindros\",\"Price\"]\n",
    "data.dropna()\n",
    "data.head()"
   ]
  },
  {
   "cell_type": "code",
   "execution_count": null,
   "metadata": {
    "collapsed": true
   },
   "outputs": [],
   "source": [
    "#Check 1 está completo até aqui, realizado pelos 3 alunos trabalhando juntos durante as aulas."
   ]
  }
 ],
 "metadata": {
  "anaconda-cloud": {},
  "kernelspec": {
   "display_name": "Python 3",
   "language": "python",
   "name": "python3"
  },
  "language_info": {
   "codemirror_mode": {
    "name": "ipython",
    "version": 3
   },
   "file_extension": ".py",
   "mimetype": "text/x-python",
   "name": "python",
   "nbconvert_exporter": "python",
   "pygments_lexer": "ipython3",
   "version": "3.6.1"
  }
 },
 "nbformat": 4,
 "nbformat_minor": 1
}
